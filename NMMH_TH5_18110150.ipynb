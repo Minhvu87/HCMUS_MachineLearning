{
 "cells": [
  {
   "cell_type": "markdown",
   "metadata": {
    "id": "R2GDcGtEpQAd"
   },
   "source": [
    "**Lab-05: K-mean Clustering**\n",
    "\n",
    "1. Randomly assign a number, from 1 to K, to each observations. There serve as initial cluster assignments for the observations.\n",
    "2. Iterate until the cluster assignments stop changing:\n",
    "    \n",
    "    2.1 For each of the K clusters, compute the cluster centroid. the $k_th$ cluster centroid is the vector of the \"p\" feature means for the observations in the \"kth\" cluster.\n",
    "    \n",
    "    2.2 Assign each observation to the cluster whose centroid is closest (where closest is defined using Euclidean distance).\n",
    "\n"
   ]
  },
  {
   "cell_type": "code",
   "execution_count": 1,
   "metadata": {
    "colab": {
     "base_uri": "https://localhost:8080/"
    },
    "id": "QHJCFnyIpZi3",
    "outputId": "d4f32138-1d7c-4d58-b507-7ace2fdf3a8a"
   },
   "outputs": [
    {
     "name": "stdout",
     "output_type": "stream",
     "text": [
      "--2021-05-15 22:01:56--  https://raw.githubusercontent.com/huynhthanh98/ML/master/lab-05/data_1.csv\n",
      "Resolving raw.githubusercontent.com (raw.githubusercontent.com)... 185.199.108.133, 185.199.110.133, 185.199.111.133, ...\n",
      "Connecting to raw.githubusercontent.com (raw.githubusercontent.com)|185.199.108.133|:443... connected.\n",
      "HTTP request sent, awaiting response... 200 OK\n",
      "Length: 57341 (56K) [text/plain]\n",
      "Saving to: ‘data_1.csv.25’\n",
      "\n",
      "data_1.csv.25       100%[===================>]  56,00K  --.-KB/s    in 0,03s   \n",
      "\n",
      "2021-05-15 22:01:57 (1,68 MB/s) - ‘data_1.csv.25’ saved [57341/57341]\n",
      "\n"
     ]
    }
   ],
   "source": [
    "#Tải data từ github\n",
    "!wget https://raw.githubusercontent.com/huynhthanh98/ML/master/lab-05/data_1.csv"
   ]
  },
  {
   "cell_type": "code",
   "execution_count": 2,
   "metadata": {
    "id": "e2xcAX7K5_w2"
   },
   "outputs": [],
   "source": [
    "import pandas as pd\n",
    "import numpy as np\n",
    "from scipy.spatial.distance import cdist\n",
    "data=pd.read_csv(\"data_1.csv\")\n"
   ]
  },
  {
   "cell_type": "code",
   "execution_count": 3,
   "metadata": {
    "colab": {
     "base_uri": "https://localhost:8080/",
     "height": 195
    },
    "id": "a1ab0PfjN7bZ",
    "outputId": "49de292d-c0df-4c93-a6ff-a15ca60abcff"
   },
   "outputs": [
    {
     "data": {
      "text/html": [
       "<div>\n",
       "<style scoped>\n",
       "    .dataframe tbody tr th:only-of-type {\n",
       "        vertical-align: middle;\n",
       "    }\n",
       "\n",
       "    .dataframe tbody tr th {\n",
       "        vertical-align: top;\n",
       "    }\n",
       "\n",
       "    .dataframe thead th {\n",
       "        text-align: right;\n",
       "    }\n",
       "</style>\n",
       "<table border=\"1\" class=\"dataframe\">\n",
       "  <thead>\n",
       "    <tr style=\"text-align: right;\">\n",
       "      <th></th>\n",
       "      <th>x1</th>\n",
       "      <th>x2</th>\n",
       "    </tr>\n",
       "  </thead>\n",
       "  <tbody>\n",
       "    <tr>\n",
       "      <th>0</th>\n",
       "      <td>-6.111197</td>\n",
       "      <td>1.471531</td>\n",
       "    </tr>\n",
       "    <tr>\n",
       "      <th>1</th>\n",
       "      <td>-7.496654</td>\n",
       "      <td>0.913425</td>\n",
       "    </tr>\n",
       "    <tr>\n",
       "      <th>2</th>\n",
       "      <td>-10.844898</td>\n",
       "      <td>-7.553523</td>\n",
       "    </tr>\n",
       "    <tr>\n",
       "      <th>3</th>\n",
       "      <td>-4.543377</td>\n",
       "      <td>-2.135686</td>\n",
       "    </tr>\n",
       "    <tr>\n",
       "      <th>4</th>\n",
       "      <td>-1.913821</td>\n",
       "      <td>-0.034780</td>\n",
       "    </tr>\n",
       "  </tbody>\n",
       "</table>\n",
       "</div>"
      ],
      "text/plain": [
       "          x1        x2\n",
       "0  -6.111197  1.471531\n",
       "1  -7.496654  0.913425\n",
       "2 -10.844898 -7.553523\n",
       "3  -4.543377 -2.135686\n",
       "4  -1.913821 -0.034780"
      ]
     },
     "execution_count": 3,
     "metadata": {},
     "output_type": "execute_result"
    }
   ],
   "source": [
    "data.head()"
   ]
  },
  {
   "cell_type": "markdown",
   "metadata": {
    "id": "CqiHaLYQOBhJ"
   },
   "source": [
    "data này chỉ gồm có 2 giá trị là x1 và x2, nhiệm vụ chúng ta là phân cụm cho data này theo $M$ nhóm, ở đây ta chọn $M=3$ "
   ]
  },
  {
   "cell_type": "code",
   "execution_count": 4,
   "metadata": {
    "colab": {
     "base_uri": "https://localhost:8080/"
    },
    "id": "CIxkttXQ6BxM",
    "outputId": "e93174bd-a726-4351-a28e-0d34301fa561"
   },
   "outputs": [
    {
     "data": {
      "text/plain": [
       "array([[-9.3555055 , -5.62613759],\n",
       "       [-5.94607231, -2.16216584],\n",
       "       [ 1.88144537,  0.95555062]])"
      ]
     },
     "execution_count": 4,
     "metadata": {},
     "output_type": "execute_result"
    }
   ],
   "source": [
    "X=data.values\n",
    "np.random.seed(32)\n",
    "#Khởi tạo các centroids\n",
    "init_centroids=X[np.random.choice(X.shape[0],3,replace=False)]\n",
    "init_centroids"
   ]
  },
  {
   "cell_type": "code",
   "execution_count": 5,
   "metadata": {
    "colab": {
     "base_uri": "https://localhost:8080/"
    },
    "id": "xHEwT5cC69w8",
    "outputId": "f7c9e069-8df3-4fe2-d9d4-e64417538422"
   },
   "outputs": [
    {
     "name": "stdout",
     "output_type": "stream",
     "text": [
      "1\n",
      "2\n",
      "3\n",
      "4\n",
      "5\n"
     ]
    }
   ],
   "source": [
    "#gán label sau mỗi vòng lặp\n",
    "def assign_label(X,centers):\n",
    "    D=cdist(X,centers,'euclidean') #thư viện để tính khoảng cách euclidean\n",
    "    return np.argmin(D,axis=1)\n",
    "#gán các centroids sau mỗi vòng lặp\n",
    "def update_centroids(X,label,K):\n",
    "    center=np.zeros([K,X.shape[1]])\n",
    "    for i in range(K):\n",
    "        X_=X[label==i, :]\n",
    "        center[i,:]=np.mean(X_,axis=0)\n",
    "    return center\n",
    "#Check xem đã hội tụ chưa\n",
    "def has_converged(new_label,old_label):\n",
    "    return (new_label==old_label).all()\n",
    "\n",
    "centroids=init_centroids\n",
    "it=0\n",
    "while True:\n",
    "    it+=1\n",
    "    #đánh label\n",
    "    labels=assign_label(X,centroids)\n",
    "    #lưu các centroids cũ\n",
    "    old_centers=centroids.copy()\n",
    "    centroids=update_centroids(X,labels,3)\n",
    "    print(it)\n",
    "    if has_converged(centroids,old_centers):\n",
    "        break\n"
   ]
  },
  {
   "cell_type": "code",
   "execution_count": 6,
   "metadata": {
    "colab": {
     "base_uri": "https://localhost:8080/",
     "height": 265
    },
    "id": "1ZuHyv35TFep",
    "outputId": "43c3c07d-a8ab-405d-a39a-eee73ccfd8ba"
   },
   "outputs": [
    {
     "data": {
      "image/png": "[encoded data removed]",
      "text/plain": [
       "<Figure size 432x288 with 1 Axes>"
      ]
     },
     "metadata": {
      "needs_background": "light"
     },
     "output_type": "display_data"
    }
   ],
   "source": [
    "#Vẽ hình thử\n",
    "import matplotlib.pyplot as plt\n",
    "def kmeans_display(X, label):\n",
    "    K = np.amax(label) + 1\n",
    "    X0 = X[label == 0, :]\n",
    "    X1 = X[label == 1, :]\n",
    "    X2 = X[label == 2, :]\n",
    "    \n",
    "    plt.plot(X0[:,0], X0[:,1], 'bo', markersize = 4, alpha = .8)\n",
    "    plt.plot(X1[:,0], X1[:,1], 'go', markersize = 4, alpha = .8)\n",
    "    plt.plot(X2[:,0], X2[:,1], 'ro', markersize = 4, alpha = .8)\n",
    "\n",
    "    plt.axis('equal')\n",
    "    plt.plot()\n",
    "    plt.show()\n",
    "    \n",
    "kmeans_display(X,labels)\n"
   ]
  },
  {
   "cell_type": "markdown",
   "metadata": {
    "id": "ysFvoenkTKNq"
   },
   "source": [
    "#Bài tập"
   ]
  },
  {
   "cell_type": "markdown",
   "metadata": {
    "id": "a5kuBeHqX8TC"
   },
   "source": [
    "1. Hãy dùng thuật toán K-mean để chọn ra số cụm thích hợp (như trong slide bài giảng) dựa trên tập training, và dự đoán label của các quan sát trên tập testing của bộ dữ liệu bên dưới.\n",
    "2. Vẽ hình các cụm trên tập testing\n",
    "\n",
    "Đường cong WCV nên như sau:\n",
    "\n",
    "![image.png](data:image/png;base64,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)"
   ]
  },
  {
   "cell_type": "code",
   "execution_count": 7,
   "metadata": {
    "colab": {
     "base_uri": "https://localhost:8080/"
    },
    "id": "WOzGaJkKtk0d",
    "outputId": "dd5428e7-d0a5-4d18-9f6c-734217ed355d"
   },
   "outputs": [
    {
     "name": "stdout",
     "output_type": "stream",
     "text": [
      "--2021-05-15 22:01:58--  https://raw.githubusercontent.com/huynhthanh98/ML/master/lab-05/data.csv\n",
      "Resolving raw.githubusercontent.com (raw.githubusercontent.com)... 185.199.109.133, 185.199.111.133, 185.199.110.133, ...\n",
      "Connecting to raw.githubusercontent.com (raw.githubusercontent.com)|185.199.109.133|:443... connected.\n",
      "HTTP request sent, awaiting response... 200 OK\n",
      "Length: 4286 (4,2K) [text/plain]\n",
      "Saving to: ‘data.csv.25’\n",
      "\n",
      "data.csv.25         100%[===================>]   4,19K  --.-KB/s    in 0s      \n",
      "\n",
      "2021-05-15 22:01:58 (22,1 MB/s) - ‘data.csv.25’ saved [4286/4286]\n",
      "\n"
     ]
    }
   ],
   "source": [
    "!wget \"https://raw.githubusercontent.com/huynhthanh98/ML/master/lab-05/data.csv\""
   ]
  },
  {
   "cell_type": "code",
   "execution_count": 8,
   "metadata": {
    "colab": {
     "base_uri": "https://localhost:8080/",
     "height": 195
    },
    "id": "XvrkhKrtTLvq",
    "outputId": "6c530963-3358-44f9-fba3-465884ad6688"
   },
   "outputs": [
    {
     "data": {
      "text/html": [
       "<div>\n",
       "<style scoped>\n",
       "    .dataframe tbody tr th:only-of-type {\n",
       "        vertical-align: middle;\n",
       "    }\n",
       "\n",
       "    .dataframe tbody tr th {\n",
       "        vertical-align: top;\n",
       "    }\n",
       "\n",
       "    .dataframe thead th {\n",
       "        text-align: right;\n",
       "    }\n",
       "</style>\n",
       "<table border=\"1\" class=\"dataframe\">\n",
       "  <thead>\n",
       "    <tr style=\"text-align: right;\">\n",
       "      <th></th>\n",
       "      <th>CustomerID</th>\n",
       "      <th>Genre</th>\n",
       "      <th>Age</th>\n",
       "      <th>Annual Income (k$)</th>\n",
       "      <th>Spending Score (1-100)</th>\n",
       "    </tr>\n",
       "  </thead>\n",
       "  <tbody>\n",
       "    <tr>\n",
       "      <th>0</th>\n",
       "      <td>1</td>\n",
       "      <td>Male</td>\n",
       "      <td>19</td>\n",
       "      <td>15</td>\n",
       "      <td>39</td>\n",
       "    </tr>\n",
       "    <tr>\n",
       "      <th>1</th>\n",
       "      <td>2</td>\n",
       "      <td>Male</td>\n",
       "      <td>21</td>\n",
       "      <td>15</td>\n",
       "      <td>81</td>\n",
       "    </tr>\n",
       "    <tr>\n",
       "      <th>2</th>\n",
       "      <td>3</td>\n",
       "      <td>Female</td>\n",
       "      <td>20</td>\n",
       "      <td>16</td>\n",
       "      <td>6</td>\n",
       "    </tr>\n",
       "    <tr>\n",
       "      <th>3</th>\n",
       "      <td>4</td>\n",
       "      <td>Female</td>\n",
       "      <td>23</td>\n",
       "      <td>16</td>\n",
       "      <td>77</td>\n",
       "    </tr>\n",
       "    <tr>\n",
       "      <th>4</th>\n",
       "      <td>5</td>\n",
       "      <td>Female</td>\n",
       "      <td>31</td>\n",
       "      <td>17</td>\n",
       "      <td>40</td>\n",
       "    </tr>\n",
       "  </tbody>\n",
       "</table>\n",
       "</div>"
      ],
      "text/plain": [
       "   CustomerID   Genre  Age  Annual Income (k$)  Spending Score (1-100)\n",
       "0           1    Male   19                  15                      39\n",
       "1           2    Male   21                  15                      81\n",
       "2           3  Female   20                  16                       6\n",
       "3           4  Female   23                  16                      77\n",
       "4           5  Female   31                  17                      40"
      ]
     },
     "execution_count": 8,
     "metadata": {},
     "output_type": "execute_result"
    }
   ],
   "source": [
    "data=pd.read_csv(\"data.csv\")\n",
    "data.head()\n",
    "\n",
    "\n"
   ]
  },
  {
   "cell_type": "markdown",
   "metadata": {
    "id": "pkZNydO9WT1z"
   },
   "source": [
    "Đây là data thông tin về khách hàng. Từ đây, ta sẽ tiến hành phân cụm các khách hàng này.\n",
    "data này gồm:\n",
    "* CustomerID: Số thứ tự khách hàng\n",
    "* Genre: Giới tính\n",
    "* Age: Tuổi\n",
    "* Annual Income: Mức thu nhập hằng năm\n",
    "* Spending Score: Chỉ số tiêu dùng "
   ]
  },
  {
   "cell_type": "code",
   "execution_count": 9,
   "metadata": {
    "colab": {
     "base_uri": "https://localhost:8080/",
     "height": 284
    },
    "id": "W5IqaHvIfveI",
    "outputId": "6d8552d5-8527-4867-f6ad-82391b91a3b6"
   },
   "outputs": [
    {
     "data": {
      "text/html": [
       "<div>\n",
       "<style scoped>\n",
       "    .dataframe tbody tr th:only-of-type {\n",
       "        vertical-align: middle;\n",
       "    }\n",
       "\n",
       "    .dataframe tbody tr th {\n",
       "        vertical-align: top;\n",
       "    }\n",
       "\n",
       "    .dataframe thead th {\n",
       "        text-align: right;\n",
       "    }\n",
       "</style>\n",
       "<table border=\"1\" class=\"dataframe\">\n",
       "  <thead>\n",
       "    <tr style=\"text-align: right;\">\n",
       "      <th></th>\n",
       "      <th>CustomerID</th>\n",
       "      <th>Age</th>\n",
       "      <th>Annual Income (k$)</th>\n",
       "      <th>Spending Score (1-100)</th>\n",
       "    </tr>\n",
       "  </thead>\n",
       "  <tbody>\n",
       "    <tr>\n",
       "      <th>count</th>\n",
       "      <td>200.000000</td>\n",
       "      <td>200.000000</td>\n",
       "      <td>200.000000</td>\n",
       "      <td>200.000000</td>\n",
       "    </tr>\n",
       "    <tr>\n",
       "      <th>mean</th>\n",
       "      <td>100.500000</td>\n",
       "      <td>38.850000</td>\n",
       "      <td>60.560000</td>\n",
       "      <td>50.200000</td>\n",
       "    </tr>\n",
       "    <tr>\n",
       "      <th>std</th>\n",
       "      <td>57.879185</td>\n",
       "      <td>13.969007</td>\n",
       "      <td>26.264721</td>\n",
       "      <td>25.823522</td>\n",
       "    </tr>\n",
       "    <tr>\n",
       "      <th>min</th>\n",
       "      <td>1.000000</td>\n",
       "      <td>18.000000</td>\n",
       "      <td>15.000000</td>\n",
       "      <td>1.000000</td>\n",
       "    </tr>\n",
       "    <tr>\n",
       "      <th>25%</th>\n",
       "      <td>50.750000</td>\n",
       "      <td>28.750000</td>\n",
       "      <td>41.500000</td>\n",
       "      <td>34.750000</td>\n",
       "    </tr>\n",
       "    <tr>\n",
       "      <th>50%</th>\n",
       "      <td>100.500000</td>\n",
       "      <td>36.000000</td>\n",
       "      <td>61.500000</td>\n",
       "      <td>50.000000</td>\n",
       "    </tr>\n",
       "    <tr>\n",
       "      <th>75%</th>\n",
       "      <td>150.250000</td>\n",
       "      <td>49.000000</td>\n",
       "      <td>78.000000</td>\n",
       "      <td>73.000000</td>\n",
       "    </tr>\n",
       "    <tr>\n",
       "      <th>max</th>\n",
       "      <td>200.000000</td>\n",
       "      <td>70.000000</td>\n",
       "      <td>137.000000</td>\n",
       "      <td>99.000000</td>\n",
       "    </tr>\n",
       "  </tbody>\n",
       "</table>\n",
       "</div>"
      ],
      "text/plain": [
       "       CustomerID         Age  Annual Income (k$)  Spending Score (1-100)\n",
       "count  200.000000  200.000000          200.000000              200.000000\n",
       "mean   100.500000   38.850000           60.560000               50.200000\n",
       "std     57.879185   13.969007           26.264721               25.823522\n",
       "min      1.000000   18.000000           15.000000                1.000000\n",
       "25%     50.750000   28.750000           41.500000               34.750000\n",
       "50%    100.500000   36.000000           61.500000               50.000000\n",
       "75%    150.250000   49.000000           78.000000               73.000000\n",
       "max    200.000000   70.000000          137.000000               99.000000"
      ]
     },
     "execution_count": 9,
     "metadata": {},
     "output_type": "execute_result"
    }
   ],
   "source": [
    "data.describe()"
   ]
  },
  {
   "cell_type": "code",
   "execution_count": 10,
   "metadata": {
    "colab": {
     "base_uri": "https://localhost:8080/"
    },
    "id": "BfUG-MYpfxiW",
    "outputId": "891336e1-65e3-4763-c02b-fe626c2ea267"
   },
   "outputs": [
    {
     "data": {
      "text/plain": [
       "CustomerID                0\n",
       "Genre                     0\n",
       "Age                       0\n",
       "Annual Income (k$)        0\n",
       "Spending Score (1-100)    0\n",
       "dtype: int64"
      ]
     },
     "execution_count": 10,
     "metadata": {},
     "output_type": "execute_result"
    }
   ],
   "source": [
    "#Check data có NULL hay không\n",
    "data.isnull().sum()"
   ]
  },
  {
   "cell_type": "code",
   "execution_count": 11,
   "metadata": {
    "id": "JxWH1j9Pf28-"
   },
   "outputs": [],
   "source": [
    "#Drop duplicates \n",
    "data.drop_duplicates(inplace=True)"
   ]
  },
  {
   "cell_type": "markdown",
   "metadata": {},
   "source": [
    "# Cau 1"
   ]
  },
  {
   "cell_type": "code",
   "execution_count": 12,
   "metadata": {
    "id": "8rqP0KAZf82Q"
   },
   "outputs": [],
   "source": [
    "X = data.iloc[:, [2, 3]].values\n",
    "from sklearn.model_selection import train_test_split\n",
    "X_train, X_test = train_test_split(X, test_size=0.33, random_state=42)\n",
    "np.random.seed(42)"
   ]
  },
  {
   "cell_type": "code",
   "execution_count": 13,
   "metadata": {},
   "outputs": [
    {
     "data": {
      "image/png": "[encoded data removed]",
      "text/plain": [
       "<Figure size 432x288 with 1 Axes>"
      ]
     },
     "metadata": {
      "needs_background": "light"
     },
     "output_type": "display_data"
    }
   ],
   "source": [
    "from sklearn.cluster import KMeans\n",
    "wcss_list= []  #Initializing the list for the values of WCSS  \n",
    "  \n",
    "#Using for loop for iterations from 1 to 10.  \n",
    "for i in range(1, 11):  \n",
    "    kmeans = KMeans(n_clusters=i, init='k-means++', random_state= 42)  \n",
    "    kmeans.fit(X_train)  \n",
    "    wcss_list.append(kmeans.inertia_)  \n",
    "plt.plot(range(1, 11), wcss_list)  \n",
    "\n",
    "plt.plot(range(1,11),wcss_list)\n",
    "plt.title('The Elbow Method Graph')\n",
    "plt.xlabel('Number of clusters(k)')\n",
    "plt.ylabel('wcss_list')\n",
    "plt.show()"
   ]
  },
  {
   "cell_type": "markdown",
   "metadata": {},
   "source": [
    "Chọn k = 4"
   ]
  },
  {
   "cell_type": "code",
   "execution_count": 14,
   "metadata": {},
   "outputs": [],
   "source": [
    "k = 4\n",
    "kmeans = KMeans(n_clusters = k, init = 'k-means++', random_state = 42).fit(X_train)"
   ]
  },
  {
   "cell_type": "code",
   "execution_count": 15,
   "metadata": {},
   "outputs": [
    {
     "name": "stdout",
     "output_type": "stream",
     "text": [
      "1\n"
     ]
    }
   ],
   "source": [
    "#Khởi tạo các centroids\n",
    "init_centroids=X_train[np.random.choice(X_train.shape[0],k,replace=False)]\n",
    "init_centroids\n",
    "\n",
    "cdist(X_train,init_centroids,'euclidean')\n",
    "\n",
    "np.argmin(cdist(X_train,init_centroids,'euclidean'),axis=1)\n",
    "\n",
    "#gán label sau mỗi vòng lặp\n",
    "def assign_label(X,centers):\n",
    "    D=cdist(X,centers,'euclidean') #thư viện để tính khoảng cách euclidean\n",
    "    return np.argmin(D,axis=1)\n",
    "#gán các centroids sau mỗi vòng lặp\n",
    "def update_centroids(X,label,K):\n",
    "    center=np.zeros([K,X.shape[1]])\n",
    "    for i in range(K):\n",
    "        X_=X[label==i, :]\n",
    "        center[i,:]=np.mean(X_,axis=0)\n",
    "    return center\n",
    "#Check xem đã hội tụ chưa\n",
    "def has_converged(new_label,old_label):\n",
    "    return (new_label==old_label).all()\n",
    "\n",
    "centroids=init_centroids\n",
    "it=0\n",
    "while True:\n",
    "    it+=1\n",
    "    #đánh label\n",
    "    labels=assign_label(X_train,centroids)\n",
    "    #lưu các centroids cũ\n",
    "    old_centers=centroids.copy()\n",
    "    centers=update_centroids(X_train,labels,k)\n",
    "    print(it)\n",
    "    if has_converged(centroids,old_centers):\n",
    "        break"
   ]
  },
  {
   "cell_type": "code",
   "execution_count": 16,
   "metadata": {},
   "outputs": [
    {
     "data": {
      "image/png": "[encoded data removed]",
      "text/plain": [
       "<Figure size 432x288 with 1 Axes>"
      ]
     },
     "metadata": {
      "needs_background": "light"
     },
     "output_type": "display_data"
    },
    {
     "data": {
      "image/png": "[encoded data removed]",
      "text/plain": [
       "<Figure size 432x288 with 1 Axes>"
      ]
     },
     "metadata": {
      "needs_background": "light"
     },
     "output_type": "display_data"
    }
   ],
   "source": [
    "#Vẽ hình thử\n",
    "def kmeans_display(X, label):\n",
    "    K = np.amax(label) + 1\n",
    "    X0 = X[label == 0, :]\n",
    "    X1 = X[label == 1, :]\n",
    "    X2 = X[label == 2, :]\n",
    "    X3 = X[label == 3, :]\n",
    "    \n",
    "    \n",
    "    plt.plot(X0[:,0], X0[:,1], 'bo', markersize = 4, alpha = .8, label = 'Cluster 1')\n",
    "    plt.plot(X1[:,0], X1[:,1], 'go', markersize = 4, alpha = .8, label = 'Cluster 2')\n",
    "    plt.plot(X2[:,0], X2[:,1], 'ro', markersize = 4, alpha = .8, label = 'Cluster 3')\n",
    "    plt.plot(X3[:,0], X3[:,1], 'yo', markersize = 4, alpha = .8, label = 'Cluster 4')\n",
    "    #plt.plot(kmeans.cluster_centers_[:,0],kmeans.cluster_centers_[:,1], label = 'Centroid')\n",
    "    plt.axis('equal')\n",
    "    plt.title('Clusters of customers')\n",
    "    plt.legend()\n",
    "    plt.plot()\n",
    "    plt.show()\n",
    "    \n",
    "kmeans_display(X_train,labels)\n",
    "kmeans_display(X_train,kmeans.labels_)"
   ]
  },
  {
   "cell_type": "code",
   "execution_count": 17,
   "metadata": {},
   "outputs": [
    {
     "name": "stdout",
     "output_type": "stream",
     "text": [
      "1\n"
     ]
    }
   ],
   "source": [
    "# Dự đoán labels tập test\n",
    "it=0\n",
    "while True:\n",
    "    it+=1\n",
    "    #đánh label\n",
    "    labels=assign_label(X_test,centroids)\n",
    "    #lưu các centroids cũ\n",
    "    old_centers=centroids.copy()\n",
    "    centers=update_centroids(X_test,labels,k)\n",
    "    print(it)\n",
    "    if has_converged(centroids,old_centers):\n",
    "        break"
   ]
  },
  {
   "cell_type": "markdown",
   "metadata": {},
   "source": [
    "# Cau2"
   ]
  },
  {
   "cell_type": "code",
   "execution_count": 19,
   "metadata": {},
   "outputs": [
    {
     "data": {
      "image/png": "[encoded data removed]",
      "text/plain": [
       "<Figure size 432x288 with 1 Axes>"
      ]
     },
     "metadata": {
      "needs_background": "light"
     },
     "output_type": "display_data"
    },
    {
     "data": {
      "image/png": "[encoded data removed]",
      "text/plain": [
       "<Figure size 432x288 with 1 Axes>"
      ]
     },
     "metadata": {
      "needs_background": "light"
     },
     "output_type": "display_data"
    }
   ],
   "source": [
    "#Vẽ hình thử\n",
    "kmeans_display(X_test,labels)\n",
    "kmeans_display(X_test,kmeans.predict(X_test))"
   ]
  }
 ],
 "metadata": {
  "colab": {
   "collapsed_sections": [],
   "name": "Copy of lab05",
   "provenance": [],
   "toc_visible": true
  },
  "kernelspec": {
   "display_name": "Python 3",
   "language": "python",
   "name": "python3"
  },
  "language_info": {
   "codemirror_mode": {
    "name": "ipython",
    "version": 3
   },
   "file_extension": ".py",
   "mimetype": "text/x-python",
   "name": "python",
   "nbconvert_exporter": "python",
   "pygments_lexer": "ipython3",
   "version": "3.8.5"
  }
 },
 "nbformat": 4,
 "nbformat_minor": 1
}
