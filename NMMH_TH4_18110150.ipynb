{
 "cells": [
  {
   "cell_type": "markdown",
   "metadata": {
    "id": "9rGoUQXwYdOk"
   },
   "source": [
    "**lab 04: Naive Bayes**\n",
    "\n",
    "Ta  có $X_i=(x_i^1,x_i^2,...,x_i^n)$ là một sample có n features, với $c$ labels ($C_1,C_2,...C_c$). Ta muốn chọn được label cho sample $X_i$ thì dựa vào:\n",
    "$$C=\\mathop{argmax}_{C_j, j=\\overline{1,c}}P(C_j|X_i)$$\n",
    "Giả sử các thành phần của biến ngẫu nhiên X độc lập với nhau, ta được: \n",
    "$$C=\\mathop{argmax}_{C_j, j=\\overline{1,c}}P(C_j)\\prod_{i=1}^n P(X_i|C_j)$$\n",
    "\n",
    "Tóm lại: với mỗi label $C_j$ ta tính tích $P(C_j)\\prod_{i=1}^n P(X_i|C_j)$ và so sánh chúng với nhau từ đó chọn ra được label mang giá trị lớn nhất\n",
    "\n",
    "Một số phân phối:\n",
    "1. Multinomial\n",
    "\n",
    "2. Gaussian\n"
   ]
  },
  {
   "cell_type": "markdown",
   "metadata": {},
   "source": [
    "Bài tập\n",
    "1. Dùng các features: Sex, Pclass, và Embarked để xây dựng thuật toán Naive Bayes Multinomial. (4đ)\n",
    "2. Dùng các features: SibSp, Parch, và Fare để xây dựng thuật toán Naive Bayes Gaussian (Khỏi normalize). (4đ)\n",
    "3. Từ bộ dữ liệu liên minh hãy xây dựng thuật toán Naive Bayes bằng cách dùng tất cả features (mix cả Multinomial và Gaussian. Lưu ý: Khỏi chia tập train, test. Dự đoán thẳng trên tập train) (2đ)"
   ]
  },
  {
   "cell_type": "code",
   "execution_count": 1,
   "metadata": {},
   "outputs": [],
   "source": [
    "import pandas as pd\n",
    "import numpy as np\n",
    "from sklearn.model_selection import train_test_split\n",
    "from sklearn.naive_bayes import CategoricalNB, GaussianNB\n",
    "from sklearn import preprocessing\n",
    "import copy"
   ]
  },
  {
   "cell_type": "code",
   "execution_count": 2,
   "metadata": {},
   "outputs": [
    {
     "data": {
      "text/html": [
       "<div>\n",
       "<style scoped>\n",
       "    .dataframe tbody tr th:only-of-type {\n",
       "        vertical-align: middle;\n",
       "    }\n",
       "\n",
       "    .dataframe tbody tr th {\n",
       "        vertical-align: top;\n",
       "    }\n",
       "\n",
       "    .dataframe thead th {\n",
       "        text-align: right;\n",
       "    }\n",
       "</style>\n",
       "<table border=\"1\" class=\"dataframe\">\n",
       "  <thead>\n",
       "    <tr style=\"text-align: right;\">\n",
       "      <th></th>\n",
       "      <th>PassengerId</th>\n",
       "      <th>Survived</th>\n",
       "      <th>Pclass</th>\n",
       "      <th>Name</th>\n",
       "      <th>Sex</th>\n",
       "      <th>Age</th>\n",
       "      <th>SibSp</th>\n",
       "      <th>Parch</th>\n",
       "      <th>Ticket</th>\n",
       "      <th>Fare</th>\n",
       "      <th>Cabin</th>\n",
       "      <th>Embarked</th>\n",
       "    </tr>\n",
       "  </thead>\n",
       "  <tbody>\n",
       "    <tr>\n",
       "      <th>0</th>\n",
       "      <td>1</td>\n",
       "      <td>0</td>\n",
       "      <td>3</td>\n",
       "      <td>Braund, Mr. Owen Harris</td>\n",
       "      <td>male</td>\n",
       "      <td>22.0</td>\n",
       "      <td>1</td>\n",
       "      <td>0</td>\n",
       "      <td>A/5 21171</td>\n",
       "      <td>7.2500</td>\n",
       "      <td>NaN</td>\n",
       "      <td>S</td>\n",
       "    </tr>\n",
       "    <tr>\n",
       "      <th>1</th>\n",
       "      <td>2</td>\n",
       "      <td>1</td>\n",
       "      <td>1</td>\n",
       "      <td>Cumings, Mrs. John Bradley (Florence Briggs Th...</td>\n",
       "      <td>female</td>\n",
       "      <td>38.0</td>\n",
       "      <td>1</td>\n",
       "      <td>0</td>\n",
       "      <td>PC 17599</td>\n",
       "      <td>71.2833</td>\n",
       "      <td>C85</td>\n",
       "      <td>C</td>\n",
       "    </tr>\n",
       "    <tr>\n",
       "      <th>2</th>\n",
       "      <td>3</td>\n",
       "      <td>1</td>\n",
       "      <td>3</td>\n",
       "      <td>Heikkinen, Miss. Laina</td>\n",
       "      <td>female</td>\n",
       "      <td>26.0</td>\n",
       "      <td>0</td>\n",
       "      <td>0</td>\n",
       "      <td>STON/O2. 3101282</td>\n",
       "      <td>7.9250</td>\n",
       "      <td>NaN</td>\n",
       "      <td>S</td>\n",
       "    </tr>\n",
       "    <tr>\n",
       "      <th>3</th>\n",
       "      <td>4</td>\n",
       "      <td>1</td>\n",
       "      <td>1</td>\n",
       "      <td>Futrelle, Mrs. Jacques Heath (Lily May Peel)</td>\n",
       "      <td>female</td>\n",
       "      <td>35.0</td>\n",
       "      <td>1</td>\n",
       "      <td>0</td>\n",
       "      <td>113803</td>\n",
       "      <td>53.1000</td>\n",
       "      <td>C123</td>\n",
       "      <td>S</td>\n",
       "    </tr>\n",
       "    <tr>\n",
       "      <th>4</th>\n",
       "      <td>5</td>\n",
       "      <td>0</td>\n",
       "      <td>3</td>\n",
       "      <td>Allen, Mr. William Henry</td>\n",
       "      <td>male</td>\n",
       "      <td>35.0</td>\n",
       "      <td>0</td>\n",
       "      <td>0</td>\n",
       "      <td>373450</td>\n",
       "      <td>8.0500</td>\n",
       "      <td>NaN</td>\n",
       "      <td>S</td>\n",
       "    </tr>\n",
       "  </tbody>\n",
       "</table>\n",
       "</div>"
      ],
      "text/plain": [
       "   PassengerId  Survived  Pclass  \\\n",
       "0            1         0       3   \n",
       "1            2         1       1   \n",
       "2            3         1       3   \n",
       "3            4         1       1   \n",
       "4            5         0       3   \n",
       "\n",
       "                                                Name     Sex   Age  SibSp  \\\n",
       "0                            Braund, Mr. Owen Harris    male  22.0      1   \n",
       "1  Cumings, Mrs. John Bradley (Florence Briggs Th...  female  38.0      1   \n",
       "2                             Heikkinen, Miss. Laina  female  26.0      0   \n",
       "3       Futrelle, Mrs. Jacques Heath (Lily May Peel)  female  35.0      1   \n",
       "4                           Allen, Mr. William Henry    male  35.0      0   \n",
       "\n",
       "   Parch            Ticket     Fare Cabin Embarked  \n",
       "0      0         A/5 21171   7.2500   NaN        S  \n",
       "1      0          PC 17599  71.2833   C85        C  \n",
       "2      0  STON/O2. 3101282   7.9250   NaN        S  \n",
       "3      0            113803  53.1000  C123        S  \n",
       "4      0            373450   8.0500   NaN        S  "
      ]
     },
     "execution_count": 2,
     "metadata": {},
     "output_type": "execute_result"
    }
   ],
   "source": [
    "data = pd.read_csv('train.csv')\n",
    "data.head()"
   ]
  },
  {
   "cell_type": "code",
   "execution_count": 3,
   "metadata": {},
   "outputs": [],
   "source": [
    "# Encode Sex, Embarked\n",
    "data=data.drop([\"Cabin\",\"Age\"],axis=1)\n",
    "data=data.dropna()\n",
    "\n",
    "encoder = preprocessing.LabelEncoder()\n",
    "\n",
    "embarkedEncoder = copy.copy(encoder.fit(data['Embarked']))\n",
    "data['Embarked'] = embarkedEncoder.transform(data['Embarked'])\n",
    "\n",
    "sexEncoder = copy.copy(encoder.fit(data['Sex']))\n",
    "data['Sex'] = sexEncoder.transform(data['Sex'])"
   ]
  },
  {
   "cell_type": "code",
   "execution_count": 4,
   "metadata": {},
   "outputs": [],
   "source": [
    "# Data\n",
    "data_train, data_test = train_test_split(data, test_size=0.2, random_state=42)"
   ]
  },
  {
   "cell_type": "code",
   "execution_count": 5,
   "metadata": {
    "id": "YNWgclZ5B349"
   },
   "outputs": [],
   "source": [
    "def get_features(data=data_train):\n",
    "    Survived=data[\"Survived\"].values\n",
    "    Pclass=data[\"Pclass\"].values\n",
    "    Sex=data[\"Sex\"].values\n",
    "    SibSp=data[\"SibSp\"].values\n",
    "    Parch=data[\"Parch\"].values\n",
    "    Embarked=data[\"Embarked\"].values\n",
    "    Fare=data[\"Fare\"].values\n",
    "    return Survived, Pclass, Sex, SibSp, Parch, Embarked,Fare\n",
    "\n",
    "Survived_train, Pclass_train, Sex_train, SibSp_train, Parch_train,Embarked_train,Fare_train=get_features()\n",
    "Survived_test, Pclass_test, Sex_test, SibSp_test, Parch_test,Embarked_test,Fare_test=get_features(data=data_test)\n",
    "\n"
   ]
  },
  {
   "cell_type": "code",
   "execution_count": 6,
   "metadata": {},
   "outputs": [],
   "source": [
    "# Xác xuất tiên nghiệm.\n",
    "P_Survived=np.sum((Survived_train==1))/len(Survived_train)\n",
    "P_notSurvived=np.sum((Survived_train==0))/len(Survived_train)\n",
    "\n",
    "# Sex\n",
    "## Survived\n",
    "P_SexisMale_Survived= np.sum((Sex_train[Survived_train==1]==0))/np.sum((Survived_train==1))\n",
    "P_SexisFemale_Survived=np.sum((Sex_train[Survived_train==1]==1))/np.sum((Survived_train==1))\n",
    "## Tính xác xuất hậu nghiệm trên tập (P(X|Survived) trên tập test)\n",
    "P_Sex_Survived= P_SexisMale_Survived*(Sex_test==0).astype(float) +P_SexisFemale_Survived*(Sex_test==1).astype(float)\n",
    "\n",
    "## notSurvivied\n",
    "P_SexisMale_notSurvived= np.sum((Sex_train[Survived_train==0]==0))/np.sum((Survived_train==0))\n",
    "P_SexisFemale_notSurvived=np.sum((Sex_train[Survived_train==0]==1))/np.sum((Survived_train==0))\n",
    "## Tính xác xuất hậu nghiệm trên tập (P(X|notSurvived) trên tập test)\n",
    "P_Sex_notSurvived= P_SexisMale_notSurvived*(Sex_test==0).astype(float) +P_SexisFemale_notSurvived*(Sex_test==1).astype(float)\n",
    "\n",
    "# Pclass\n",
    "## Survived\n",
    "P_Pclass1_Survived= np.sum((Pclass_train[Survived_train==1]==1))/np.sum((Survived_train==1))\n",
    "P_Pclass2_Survived=np.sum((Pclass_train[Survived_train==1]==2))/np.sum((Survived_train==1))\n",
    "P_Pclass3_Survived=np.sum((Pclass_train[Survived_train==1]==3))/np.sum((Survived_train==1))\n",
    "##Tính xác xuất hậu nghiệm trên tập (P(X|Survived) trên tập test)\n",
    "P_Pclass_Survived= P_Pclass1_Survived*(Pclass_test==1).astype(float) +P_Pclass2_Survived*(Pclass_test==2).astype(float) + P_Pclass3_Survived*(Pclass_test==3).astype(float)\n",
    "\n",
    "## notSurvivied\n",
    "P_Pclass1_notSurvived= np.sum((Pclass_train[Survived_train==0]==1))/np.sum((Survived_train==0))\n",
    "P_Pclass2_notSurvived=np.sum((Pclass_train[Survived_train==0]==2))/np.sum((Survived_train==0))\n",
    "P_Pclass3_notSurvived=np.sum((Pclass_train[Survived_train==0]==3))/np.sum((Survived_train==0))\n",
    "##Tính xác xuất hậu nghiệm trên tập (P(X|notSurvived) trên tập test)\n",
    "P_Pclass_notSurvived= P_Pclass1_notSurvived*(Pclass_test==1).astype(float) +P_Pclass2_notSurvived*(Pclass_test==2).astype(float) + P_Pclass3_notSurvived*(Pclass_test==3).astype(float)\n",
    "\n",
    "# Embarked\n",
    "## Survived\n",
    "P_EmbarkedS_Survived= np.sum((Embarked_train[Survived_train==1]==2))/np.sum((Survived_train==1))\n",
    "P_EmbarkedC_Survived=np.sum((Embarked_train[Survived_train==1]==0))/np.sum((Survived_train==1))\n",
    "P_EmbarkedQ_Survived=np.sum((Embarked_train[Survived_train==1]==1))/np.sum((Survived_train==1))\n",
    "##Tính xác xuất hậu nghiệm trên tập (P(X|Survived) trên tập test)\n",
    "P_Embarked_Survived= P_EmbarkedS_Survived*(Embarked_test==2).astype(float) +P_EmbarkedC_Survived*(Embarked_test==0).astype(float) + P_EmbarkedQ_Survived*(Embarked_test==1).astype(float)\n",
    "\n",
    "## notSurvivied\n",
    "P_EmbarkedS_notSurvived= np.sum((Embarked_train[Survived_train==0]==2))/np.sum((Survived_train==0))\n",
    "P_EmbarkedC_notSurvived=np.sum((Embarked_train[Survived_train==0]==0))/np.sum((Survived_train==0))\n",
    "P_EmbarkedQ_notSurvived=np.sum((Embarked_train[Survived_train==0]==1))/np.sum((Survived_train==0))\n",
    "##Tính xác xuất hậu nghiệm trên tập (P(X|notSurvived) trên tập test)\n",
    "P_Embarked_notSurvived= P_EmbarkedS_notSurvived*(Embarked_test==2).astype(float) +P_EmbarkedC_notSurvived*(Embarked_test==0).astype(float) + P_EmbarkedQ_notSurvived*(Embarked_test==1).astype(float)\n",
    "\n",
    "#tích P(Survived|X)*P(Survived)\n",
    "P_Survived_combine=P_Survived*P_Sex_Survived*P_Pclass_Survived*P_Embarked_Survived\n",
    "#tích P(notSurvived|X)*P(notSurvived)\n",
    "P_notSurvived_combine=P_notSurvived*P_Sex_notSurvived*P_Pclass_notSurvived*P_Embarked_notSurvived"
   ]
  },
  {
   "cell_type": "code",
   "execution_count": 7,
   "metadata": {},
   "outputs": [
    {
     "data": {
      "text/plain": [
       "0.7808988764044944"
      ]
     },
     "execution_count": 7,
     "metadata": {},
     "output_type": "execute_result"
    }
   ],
   "source": [
    "np.mean((P_Survived_combine>P_notSurvived_combine).astype(float)==Survived_test)"
   ]
  },
  {
   "cell_type": "code",
   "execution_count": 8,
   "metadata": {},
   "outputs": [
    {
     "data": {
      "text/plain": [
       "0.7808988764044944"
      ]
     },
     "execution_count": 8,
     "metadata": {},
     "output_type": "execute_result"
    }
   ],
   "source": [
    "## Dùng sklearn\n",
    "\n",
    "from sklearn.naive_bayes import CategoricalNB\n",
    "# Dùng sklearn\n",
    "data_train1=data_train[['Sex', 'Pclass', 'Embarked']]\n",
    "data_test1=data_test[['Sex', 'Pclass', 'Embarked']]\n",
    "\n",
    "nb = CategoricalNB().fit(data_train1, Survived_train)\n",
    "nb.score(data_test1,Survived_test)"
   ]
  },
  {
   "cell_type": "markdown",
   "metadata": {},
   "source": [
    "# Bai 2"
   ]
  },
  {
   "cell_type": "code",
   "execution_count": 9,
   "metadata": {},
   "outputs": [],
   "source": [
    "def normal(x, mean, std):\n",
    "    return 1/(np.sqrt(2*np.pi)*std)*np.exp(-np.square(x-mean)/(2*np.square(std)))"
   ]
  },
  {
   "cell_type": "code",
   "execution_count": 10,
   "metadata": {},
   "outputs": [
    {
     "data": {
      "text/plain": [
       "0.6910112359550562"
      ]
     },
     "execution_count": 10,
     "metadata": {},
     "output_type": "execute_result"
    }
   ],
   "source": [
    "# tính tham số\n",
    "# Sibsp\n",
    "Sibsp_mean_Survived = np.mean(SibSp_train[Survived_train==1])\n",
    "Sibsp_std_Survived = np.std(SibSp_train[Survived_train==1])\n",
    "\n",
    "Sibsp_mean_notSurvived = np.mean(SibSp_train[Survived_train==0])\n",
    "Sibsp_std_notSurvived = np.std(SibSp_train[Survived_train==0])\n",
    "\n",
    "# Parch\n",
    "Parch_mean_Survived = np.mean(Parch_train[Survived_train==1])\n",
    "Parch_std_Survived = np.std(Parch_train[Survived_train==1])\n",
    "\n",
    "Parch_mean_notSurvived = np.mean(Parch_train[Survived_train==0])\n",
    "Parch_std_notSurvived = np.std(Parch_train[Survived_train==0])\n",
    "\n",
    "# Fare\n",
    "Fare_mean_Survived = np.mean(Fare_train[Survived_train==1])\n",
    "Fare_std_Survived = np.std(Fare_train[Survived_train==1])\n",
    "\n",
    "Fare_mean_notSurvived = np.mean(Fare_train[Survived_train==0])\n",
    "Fare_std_notSurvived = np.std(Fare_train[Survived_train==0])\n",
    "\n",
    "# P(X|Sur) và P(X|notSur)\n",
    "# Sibsp\n",
    "P_SibSp_Survived = normal(SibSp_test, Sibsp_mean_Survived , Sibsp_std_Survived )\n",
    "P_SibSp_notSurvived = normal(SibSp_test, Sibsp_mean_notSurvived, Sibsp_std_notSurvived)\n",
    "\n",
    "# Parch\n",
    "P_Parch_Survived = normal(Parch_test, Parch_mean_Survived , Parch_std_Survived )\n",
    "P_Parch_notSurvived = normal(Parch_test, Parch_mean_notSurvived, Parch_std_notSurvived)\n",
    "\n",
    "# Fare\n",
    "P_Fare_Survived = normal(Fare_test, Fare_mean_Survived , Fare_std_Survived )\n",
    "P_Fare_notSurvived = normal(Fare_test, Fare_mean_notSurvived, Fare_std_notSurvived)\n",
    "\n",
    "# Formula\n",
    "P_Survived_combine=P_Survived*P_SibSp_Survived*P_Parch_Survived*P_Fare_Survived\n",
    "P_notSurvived_combine= P_notSurvived*P_SibSp_notSurvived*P_Parch_notSurvived*P_Fare_notSurvived\n",
    "\n",
    "np.mean((P_Survived_combine>P_notSurvived_combine).astype(int)==Survived_test)"
   ]
  },
  {
   "cell_type": "code",
   "execution_count": 11,
   "metadata": {},
   "outputs": [
    {
     "data": {
      "text/plain": [
       "0.6910112359550562"
      ]
     },
     "execution_count": 11,
     "metadata": {},
     "output_type": "execute_result"
    }
   ],
   "source": [
    "## Dùng sklearn\n",
    "data_train2=data_train[['SibSp', 'Parch', 'Fare']]\n",
    "data_test2=data_test[['SibSp', 'Parch', 'Fare']]\n",
    "\n",
    "nb = GaussianNB().fit(data_train2, Survived_train)\n",
    "np.mean(Survived_test == nb.predict(data_test2))"
   ]
  },
  {
   "cell_type": "markdown",
   "metadata": {},
   "source": [
    "# Bai 3"
   ]
  },
  {
   "cell_type": "markdown",
   "metadata": {},
   "source": [
    "Về cơ bản, Liên Minh Huyền Thoại là một game giữa hai đội Blue và Red với mục tiêu là phá hủy nhà chính đối phương. Mỗi đội có 5 người chơi, mỗi người điều khiển 1 nhân vật. Trong trò chơi, để chiến thắng người chơi có thể:\n",
    "\n",
    "Hạ gục đối phương: thể hiện bằng chỉ số hạ gục (Kills)\n",
    "\n",
    "Hạ gục lính kiếm tiền mua trang bị (MinionsKilled)\n",
    "\n",
    "Cắm mắt để có tầm nhìn, thêm thông tin về đối phương (WardsPlaced)\n",
    "\n",
    "Ăn sứ giả lấy bùa và vật phẩm (Heralds)\n",
    "\n",
    "Ăn bùa rồng (Dragons)\n",
    "\n",
    "Mạng đầu tiên (firstBlood)\n",
    "\n",
    "Đội thắng (teamWins)"
   ]
  },
  {
   "cell_type": "code",
   "execution_count": 12,
   "metadata": {},
   "outputs": [
    {
     "data": {
      "text/html": [
       "<div>\n",
       "<style scoped>\n",
       "    .dataframe tbody tr th:only-of-type {\n",
       "        vertical-align: middle;\n",
       "    }\n",
       "\n",
       "    .dataframe tbody tr th {\n",
       "        vertical-align: top;\n",
       "    }\n",
       "\n",
       "    .dataframe thead th {\n",
       "        text-align: right;\n",
       "    }\n",
       "</style>\n",
       "<table border=\"1\" class=\"dataframe\">\n",
       "  <thead>\n",
       "    <tr style=\"text-align: right;\">\n",
       "      <th></th>\n",
       "      <th>killsDiff</th>\n",
       "      <th>minionsKilledDiff</th>\n",
       "      <th>wardPlacedDiff</th>\n",
       "      <th>firstBlood</th>\n",
       "      <th>heralds</th>\n",
       "      <th>dragons</th>\n",
       "      <th>teamWins</th>\n",
       "    </tr>\n",
       "  </thead>\n",
       "  <tbody>\n",
       "    <tr>\n",
       "      <th>0</th>\n",
       "      <td>3</td>\n",
       "      <td>-2</td>\n",
       "      <td>13</td>\n",
       "      <td>blue</td>\n",
       "      <td>none</td>\n",
       "      <td>none</td>\n",
       "      <td>red</td>\n",
       "    </tr>\n",
       "    <tr>\n",
       "      <th>1</th>\n",
       "      <td>0</td>\n",
       "      <td>-66</td>\n",
       "      <td>0</td>\n",
       "      <td>red</td>\n",
       "      <td>red</td>\n",
       "      <td>red</td>\n",
       "      <td>red</td>\n",
       "    </tr>\n",
       "    <tr>\n",
       "      <th>2</th>\n",
       "      <td>-4</td>\n",
       "      <td>-17</td>\n",
       "      <td>0</td>\n",
       "      <td>red</td>\n",
       "      <td>none</td>\n",
       "      <td>blue</td>\n",
       "      <td>red</td>\n",
       "    </tr>\n",
       "    <tr>\n",
       "      <th>3</th>\n",
       "      <td>-1</td>\n",
       "      <td>-34</td>\n",
       "      <td>28</td>\n",
       "      <td>red</td>\n",
       "      <td>blue</td>\n",
       "      <td>none</td>\n",
       "      <td>red</td>\n",
       "    </tr>\n",
       "    <tr>\n",
       "      <th>4</th>\n",
       "      <td>0</td>\n",
       "      <td>-15</td>\n",
       "      <td>58</td>\n",
       "      <td>red</td>\n",
       "      <td>none</td>\n",
       "      <td>red</td>\n",
       "      <td>red</td>\n",
       "    </tr>\n",
       "  </tbody>\n",
       "</table>\n",
       "</div>"
      ],
      "text/plain": [
       "   killsDiff  minionsKilledDiff  wardPlacedDiff firstBlood heralds dragons  \\\n",
       "0          3                 -2              13       blue    none    none   \n",
       "1          0                -66               0        red     red     red   \n",
       "2         -4                -17               0        red    none    blue   \n",
       "3         -1                -34              28        red    blue    none   \n",
       "4          0                -15              58        red    none     red   \n",
       "\n",
       "  teamWins  \n",
       "0      red  \n",
       "1      red  \n",
       "2      red  \n",
       "3      red  \n",
       "4      red  "
      ]
     },
     "execution_count": 12,
     "metadata": {},
     "output_type": "execute_result"
    }
   ],
   "source": [
    "#Chuẩn bị data cho câu 3\n",
    "import pandas as pd\n",
    "df = pd.read_csv(\"https://raw.githubusercontent.com/dinhvietcuong1996/Lab-MachineLearningCourse/master/Lab04/lienminh.csv\")\n",
    "df.head()"
   ]
  },
  {
   "cell_type": "code",
   "execution_count": null,
   "metadata": {},
   "outputs": [],
   "source": []
  },
  {
   "cell_type": "code",
   "execution_count": 13,
   "metadata": {},
   "outputs": [],
   "source": [
    "encoder = preprocessing.LabelEncoder()\n",
    "\n",
    "firstBloodEncoder = copy.copy(encoder.fit(df['firstBlood']))\n",
    "df['firstBlood'] = firstBloodEncoder.transform(df['firstBlood'])\n",
    "\n",
    "heraldsEncoder = copy.copy(encoder.fit(df['heralds']))\n",
    "df['heralds'] = heraldsEncoder.transform(df['heralds'])\n",
    "\n",
    "dragonsEncoder = copy.copy(encoder.fit(df['dragons']))\n",
    "df['dragons'] = dragonsEncoder.transform(df['dragons'])\n",
    "\n",
    "teamWinsEncoder = copy.copy(encoder.fit(df['teamWins']))\n",
    "df['teamWins'] = teamWinsEncoder.transform(df['teamWins'])"
   ]
  },
  {
   "cell_type": "code",
   "execution_count": 14,
   "metadata": {},
   "outputs": [],
   "source": [
    "\n",
    "#3\n",
    "killsDiff = df['killsDiff'].values\n",
    "minionsKilledDiff = df['minionsKilledDiff'].values\n",
    "wardPlacedDiff = df['wardPlacedDiff'].values\n",
    "firstBlood = df['firstBlood'].values\n",
    "heralds = df['heralds'].values\n",
    "dragons = df['dragons'].values\n",
    "\n",
    "teamWins = df['teamWins'].values\n"
   ]
  },
  {
   "cell_type": "code",
   "execution_count": 15,
   "metadata": {},
   "outputs": [],
   "source": [
    "# Xác xuất tiên nghiệm.\n",
    "P_redWins=np.sum(teamWins==1)/len(teamWins)\n",
    "P_blueWins=np.sum(teamWins==0)/len(teamWins)\n",
    "\n",
    "# firstBlood\n",
    "## redWins\n",
    "P_blue_redWins= np.sum((firstBlood[teamWins==1]==0))/np.sum((teamWins==1))\n",
    "P_red_redWins=np.sum((firstBlood[teamWins==1]==1))/np.sum((teamWins==1))\n",
    "P_none_redWins=np.sum((firstBlood[teamWins==1]==2))/np.sum((teamWins==1))\n",
    "## Tính xác xuất hậu nghiệm trên tập (P(X|Survived) trên tập test)\n",
    "P_firstBlood_redWins= P_blue_redWins*(firstBlood==0).astype(float) +P_red_redWins*(firstBlood==1).astype(float)+P_none_redWins*(firstBlood==2).astype(float)\n",
    "\n",
    "## blueWins\n",
    "P_blue_blueWins= np.sum((firstBlood[teamWins==0]==0))/np.sum((teamWins==0))\n",
    "P_red_blueWins=np.sum((firstBlood[teamWins==0]==1))/np.sum((teamWins==0))\n",
    "P_none_blueWins=np.sum((firstBlood[teamWins==0]==2))/np.sum((teamWins==0))\n",
    "## Tính xác xuất hậu nghiệm trên tập (P(X|notSurvived) trên tập test)\n",
    "P_firstBlood_blueWins= P_blue_blueWins*(firstBlood==0).astype(float) +P_red_blueWins*(firstBlood==1).astype(float)+P_none_blueWins*(firstBlood==2).astype(float)\n",
    "\n",
    "# heralds\n",
    "## redWins\n",
    "P_blue_redWins= np.sum((heralds[teamWins==1]==0))/np.sum((teamWins==1))\n",
    "P_red_redWins=np.sum((heralds[teamWins==1]==1))/np.sum((teamWins==1))\n",
    "P_none_redWins=np.sum((heralds[teamWins==1]==2))/np.sum((teamWins==1))\n",
    "## Tính xác xuất hậu nghiệm trên tập (P(X|Survived) trên tập test)\n",
    "P_heralds_redWins= P_blue_redWins*(heralds==0).astype(float) +P_red_redWins*(heralds==1).astype(float)+P_none_redWins*(heralds==2).astype(float)\n",
    "\n",
    "## blueWins\n",
    "P_blue_blueWins= np.sum((heralds[teamWins==0]==0))/np.sum((teamWins==0))\n",
    "P_red_blueWins=np.sum((heralds[teamWins==0]==1))/np.sum((teamWins==0))\n",
    "P_none_blueWins=np.sum((heralds[teamWins==1]==2))/np.sum((teamWins==0))\n",
    "## Tính xác xuất hậu nghiệm trên tập (P(X|notSurvived) trên tập test)\n",
    "P_heralds_blueWins= P_blue_blueWins*(heralds==0).astype(float) +P_red_blueWins*(heralds==1).astype(float)+P_none_blueWins*(heralds==2).astype(float)\n",
    "\n",
    "# dragons\n",
    "## redWins\n",
    "P_blue_redWins= np.sum((dragons[teamWins==1]==0))/np.sum((teamWins==1))\n",
    "P_red_redWins=np.sum((dragons[teamWins==1]==1))/np.sum((teamWins==1))\n",
    "P_none_redWins=np.sum((dragons[teamWins==1]==2))/np.sum((teamWins==1))\n",
    "## Tính xác xuất hậu nghiệm trên tập (P(X|Survived) trên tập test)\n",
    "P_dragons_redWins= P_blue_redWins*(dragons==0).astype(float) +P_red_redWins*(dragons==1).astype(float)+P_none_redWins*(dragons==2).astype(float)\n",
    "\n",
    "## blueWins\n",
    "P_blue_blueWins= np.sum((dragons[teamWins==0]==0))/np.sum((teamWins==0))\n",
    "P_red_blueWins=np.sum((dragons[teamWins==0]==1))/np.sum((teamWins==0))\n",
    "P_none_blueWins=np.sum((dragons[teamWins==1]==2))/np.sum((teamWins==0))\n",
    "## Tính xác xuất hậu nghiệm trên tập (P(X|notSurvived) trên tập test)\n",
    "P_dragons_blueWins= P_blue_blueWins*(dragons==0).astype(float) +P_red_blueWins*(dragons==1).astype(float)+P_none_blueWins*(dragons==2).astype(float)\n"
   ]
  },
  {
   "cell_type": "code",
   "execution_count": 16,
   "metadata": {},
   "outputs": [],
   "source": [
    "#tích P(redWins|X)*P(redWins)\n",
    "P_redWins_combine=P_redWins*P_firstBlood_redWins*P_heralds_redWins*P_dragons_redWins\n",
    "#tích P(notSurvived|X)*P(notSurvived)\n",
    "P_blueWins_combine=P_blueWins*P_firstBlood_blueWins*P_heralds_blueWins*P_dragons_blueWins"
   ]
  },
  {
   "cell_type": "code",
   "execution_count": 17,
   "metadata": {},
   "outputs": [
    {
     "data": {
      "text/plain": [
       "0.612005263690657"
      ]
     },
     "execution_count": 17,
     "metadata": {},
     "output_type": "execute_result"
    }
   ],
   "source": [
    "np.mean((P_redWins_combine>P_blueWins_combine).astype(float)==teamWins)"
   ]
  },
  {
   "cell_type": "code",
   "execution_count": 18,
   "metadata": {},
   "outputs": [
    {
     "data": {
      "text/plain": [
       "0.6298208320680231"
      ]
     },
     "execution_count": 18,
     "metadata": {},
     "output_type": "execute_result"
    }
   ],
   "source": [
    "from sklearn.naive_bayes import CategoricalNB\n",
    "# Dùng sklearn\n",
    "data=df[['firstBlood', 'heralds', 'dragons']]\n",
    "\n",
    "\n",
    "nb = CategoricalNB(alpha=1.0e-10).fit(data, teamWins)\n",
    "nb.score(data, teamWins)"
   ]
  },
  {
   "cell_type": "code",
   "execution_count": 19,
   "metadata": {},
   "outputs": [],
   "source": [
    "def normal(x, mean, std):\n",
    "    return 1/(np.sqrt(2*np.pi)*std)*np.exp(-np.square(x-mean)/(2*np.square(std)))"
   ]
  },
  {
   "cell_type": "code",
   "execution_count": 20,
   "metadata": {},
   "outputs": [],
   "source": [
    "#Tính tham so\n",
    "#killsDiff\n",
    "killsDiff_mean_redWins = np.mean(killsDiff[teamWins==1])\n",
    "killsDiff_std_redWins = np.std(killsDiff[teamWins==1])\n",
    "\n",
    "killsDiff_mean_blueWins = np.mean(killsDiff[teamWins==0])\n",
    "killsDiff_std_blueWins = np.std(killsDiff[teamWins==0])\n",
    "#minionsKilledDiff\n",
    "minionsKilledDiff_mean_redWins = np.mean(minionsKilledDiff[teamWins==1])\n",
    "minionsKilledDiff_std_redWins = np.std(minionsKilledDiff[teamWins==1])\n",
    "\n",
    "minionsKilledDiff_mean_blueWins = np.mean(minionsKilledDiff[teamWins==0])\n",
    "minionsKilledDiff_std_blueWins = np.std(minionsKilledDiff[teamWins==0])\n",
    "#wardPlacedDiff\n",
    "wardPlacedDiff_mean_redWins = np.mean(wardPlacedDiff[teamWins==1])\n",
    "wardPlacedDiff_std_redWins = np.std(wardPlacedDiff[teamWins==1])\n",
    "\n",
    "wardPlacedDiff_mean_blueWins = np.mean(wardPlacedDiff[teamWins==0])\n",
    "wardPlacedDiff_std_blueWins = np.std(wardPlacedDiff[teamWins==0])"
   ]
  },
  {
   "cell_type": "code",
   "execution_count": 21,
   "metadata": {},
   "outputs": [],
   "source": [
    "#Tinh normalDistribution\n",
    "#killsDiff\n",
    "P_killsDiff_redWins = normal(killsDiff, killsDiff_mean_redWins , killsDiff_std_redWins)\n",
    "P_killsDiff_blueWins = normal(killsDiff, killsDiff_mean_blueWins, killsDiff_std_blueWins)\n",
    "\n",
    "#minionsKilledDiff\n",
    "P_minionsKilledDiff_redWins = normal(minionsKilledDiff, minionsKilledDiff_mean_redWins , minionsKilledDiff_std_redWins)\n",
    "P_minionsKilledDiff_blueWins = normal(minionsKilledDiff, minionsKilledDiff_mean_blueWins,minionsKilledDiff_std_blueWins)\n",
    "\n",
    "#wardPlacedDiff\n",
    "P_wardPlacedDiff_redWins = normal(wardPlacedDiff, wardPlacedDiff_mean_redWins , wardPlacedDiff_std_redWins)\n",
    "P_wardPlacedDiff_blueWins = normal(wardPlacedDiff, wardPlacedDiff_mean_blueWins, wardPlacedDiff_std_blueWins)\n"
   ]
  },
  {
   "cell_type": "code",
   "execution_count": 22,
   "metadata": {},
   "outputs": [
    {
     "data": {
      "text/plain": [
       "0.7082700678206296"
      ]
     },
     "execution_count": 22,
     "metadata": {},
     "output_type": "execute_result"
    }
   ],
   "source": [
    "# Formula\n",
    "P_redWins_combine=P_redWins * P_killsDiff_redWins * P_minionsKilledDiff_redWins * P_wardPlacedDiff_redWins\n",
    "P_blueWins_combine= P_blueWins * P_killsDiff_blueWins * P_minionsKilledDiff_blueWins * P_wardPlacedDiff_blueWins\n",
    "\n",
    "np.mean((P_redWins_combine>P_blueWins_combine).astype(float)==teamWins)"
   ]
  },
  {
   "cell_type": "code",
   "execution_count": 23,
   "metadata": {},
   "outputs": [
    {
     "data": {
      "text/plain": [
       "0.7082700678206296"
      ]
     },
     "execution_count": 23,
     "metadata": {},
     "output_type": "execute_result"
    }
   ],
   "source": [
    "from sklearn.naive_bayes import GaussianNB\n",
    "# Dùng sklearn\n",
    "data=df[['killsDiff', 'minionsKilledDiff', 'wardPlacedDiff']]\n",
    "\n",
    "\n",
    "nb = GaussianNB().fit(data, teamWins)\n",
    "np.mean(teamWins == nb.predict(data))"
   ]
  }
 ],
 "metadata": {
  "colab": {
   "collapsed_sections": [],
   "name": "  lab-04",
   "provenance": [],
   "toc_visible": true
  },
  "kernelspec": {
   "display_name": "Python 3",
   "language": "python",
   "name": "python3"
  },
  "language_info": {
   "codemirror_mode": {
    "name": "ipython",
    "version": 3
   },
   "file_extension": ".py",
   "mimetype": "text/x-python",
   "name": "python",
   "nbconvert_exporter": "python",
   "pygments_lexer": "ipython3",
   "version": "3.8.5"
  }
 },
 "nbformat": 4,
 "nbformat_minor": 1
}
