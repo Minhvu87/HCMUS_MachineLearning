{
 "cells": [
  {
   "cell_type": "markdown",
   "id": "answering-delhi",
   "metadata": {},
   "source": [
    "# Lab 01 Getting Started "
   ]
  },
  {
   "cell_type": "markdown",
   "id": "relevant-newsletter",
   "metadata": {},
   "source": [
    "# Kiến thức"
   ]
  },
  {
   "cell_type": "markdown",
   "id": "effective-colon",
   "metadata": {},
   "source": [
    "Ta gọi $x_i=[1,x_{i_1},x_{i_2},...,x_{i_n}]$ là một sample có $n$ features (1 là bias). $X=[x_1,x_2,...,x_N]$ là bộ dữ liệu với $N$ samples. $Y=[y_1,y_2,...,y_N]$ là target values. \n",
    "\n",
    "Ta cần xây dựng một mô hình hồi quy: \n",
    "\n",
    "$$\\hat{Y}=XW$$\n",
    "\n",
    "Với $W\\in R^{n+1\\times 1}$ là một ma trận chứa các weights cần học. $Y\\in R^{N\\times 1}$, $X\\in R^{N\\times n+1}$. lưu ý nếu target value (hay $y$) là một vector thì ta sẽ thay $1$ bằng $m$ với $m$ là số chiều của vector $y$\n",
    "\n",
    "Ta định nghĩa hàm Loss: \n",
    "$$L=\\frac{1}{2}(\\hat{Y}-Y)^2=\\frac{1}{2}(XW-Y)^2$$\n",
    "\n",
    "Đến đây ta muốn $Y$ và $\\hat{Y}$ càng ngày gần nhau do đó ta sẽ tìm W sao cho L nhỏ nhất. Ta sẽ lấy đạo hàm của L theo W ta được\n",
    "$$X^{T}(XW-y)$$\n",
    "cho phương trình trên bằng 0 và giải ra ta được:\n",
    "$$W=(X^{T}X)^{-1}X^Ty$$\n",
    "\n",
    "Ta luôn giả sử $X^TX$ khả nghịch\n"
   ]
  },
  {
   "cell_type": "code",
   "execution_count": 1,
   "id": "historic-messaging",
   "metadata": {},
   "outputs": [],
   "source": [
    "#Thư viện\n",
    "import numpy as np \n",
    "import matplotlib.pyplot as plt \n",
    "import random"
   ]
  },
  {
   "cell_type": "code",
   "execution_count": 2,
   "id": "intended-miami",
   "metadata": {},
   "outputs": [
    {
     "data": {
      "image/png": "[encoded data removed]",
      "text/plain": [
       "<Figure size 432x288 with 1 Axes>"
      ]
     },
     "metadata": {
      "needs_background": "light"
     },
     "output_type": "display_data"
    },
    {
     "data": {
      "text/plain": [
       "(13, 1)"
      ]
     },
     "execution_count": 2,
     "metadata": {},
     "output_type": "execute_result"
    }
   ],
   "source": [
    "#Tạo X\n",
    "X = np.array([[147, 150, 153, 158, 163, 165, 168, 170, 173, 175, 178, 180, 183]]).T\n",
    "# Tạo Y \n",
    "y = np.array([[ -33+0.5*i[0] + random.randint(1,3) for i in X]]).T\n",
    "# Vẽ thử các điểm dữ liệu\n",
    "plt.plot(X, y, 'ro')\n",
    "plt.axis([140, 190, 45, 75])\n",
    "plt.xlabel('X')\n",
    "plt.ylabel('Y')\n",
    "plt.show()\n",
    "y.shape"
   ]
  },
  {
   "cell_type": "code",
   "execution_count": 3,
   "id": "affected-identity",
   "metadata": {},
   "outputs": [
    {
     "name": "stdout",
     "output_type": "stream",
     "text": [
      "w =  [[-33.09120383]\n",
      " [  0.51395546]]\n"
     ]
    },
    {
     "data": {
      "image/png": "[encoded data removed]",
      "text/plain": [
       "<Figure size 432x288 with 1 Axes>"
      ]
     },
     "metadata": {
      "needs_background": "light"
     },
     "output_type": "display_data"
    }
   ],
   "source": [
    "# Thêm 1 vào X\n",
    "one = np.ones((X.shape[0], 1))\n",
    "Xbar = np.concatenate((one, X), axis = 1)\n",
    " \n",
    "# Tính W\n",
    "A = np.dot(Xbar.T, Xbar)\n",
    "b = np.dot(Xbar.T, y)\n",
    "w = np.dot(np.linalg.pinv(A), b)\n",
    "print('w = ', w)\n",
    " \n",
    "# Tạo một đường thẳng model\n",
    "w_0 = w[0][0]\n",
    "w_1 = w[1][0]\n",
    "x0 = np.linspace(145, 185, 2)\n",
    "y0 = w_0 + w_1*x0\n",
    " \n",
    "# Vẽ fitting line\n",
    "plt.plot(X.T, y.T, 'ro')     # data \n",
    "plt.plot(x0, y0)               # the fitting line\n",
    "plt.axis([140, 190, 45, 75])\n",
    "plt.xlabel('X')\n",
    "plt.ylabel('Y')\n",
    "plt.show()"
   ]
  },
  {
   "cell_type": "markdown",
   "id": "thick-buying",
   "metadata": {},
   "source": [
    "# Bài tập"
   ]
  },
  {
   "cell_type": "markdown",
   "id": "unsigned-house",
   "metadata": {},
   "source": [
    "1. Hãy dùng bộ dữ liệu dibetes để thiết lập mô hình Linear Regresion\n",
    "2. Hãy tìm target values của diabetes_X_test rồi so sánh với target values trong diabetes_y_test\n",
    "3. Tìm hiểu sklearn và làm lại yêu cầu câu 2 (câu cộng điểm)"
   ]
  },
  {
   "cell_type": "code",
   "execution_count": 4,
   "id": "executed-angola",
   "metadata": {},
   "outputs": [],
   "source": [
    "  from sklearn import datasets\n",
    "diabetes_X, diabetes_y = datasets.load_diabetes(return_X_y=True)\n",
    "diabetes_X_train,diabetes_y_train=diabetes_X[:-2],diabetes_y[:-2].reshape(1,-1).T\n",
    "diabetes_X_test,diabetes_y_test=diabetes_X[-2:],diabetes_y[-2:].reshape(1,-1).T"
   ]
  },
  {
   "cell_type": "code",
   "execution_count": 5,
   "id": "vital-arrest",
   "metadata": {},
   "outputs": [
    {
     "name": "stdout",
     "output_type": "stream",
     "text": [
      "Coefficients: \n",
      " [938.23786125]\n",
      "Mean squared error: 2548.07\n",
      "Coefficient of determination: 0.47\n"
     ]
    },
    {
     "data": {
      "image/png": "[encoded data removed]",
      "text/plain": [
       "<Figure size 432x288 with 1 Axes>"
      ]
     },
     "metadata": {},
     "output_type": "display_data"
    }
   ],
   "source": [
    "import matplotlib.pyplot as plt\n",
    "import numpy as np\n",
    "from sklearn import datasets, linear_model\n",
    "from sklearn.metrics import mean_squared_error, r2_score\n",
    "# Load the diabetes dataset\n",
    "diabetes_X, diabetes_y = datasets.load_diabetes(return_X_y=True)\n",
    " \n",
    "# Use only one feature\n",
    "diabetes_X = diabetes_X[:, np.newaxis, 2]\n",
    " \n",
    "# Split the data into training/testing sets\n",
    "diabetes_X_train = diabetes_X[:-20]\n",
    "diabetes_X_test = diabetes_X[-20:]\n",
    " \n",
    "# Split the targets into training/testing sets\n",
    "diabetes_y_train = diabetes_y[:-20]\n",
    "diabetes_y_test = diabetes_y[-20:]\n",
    " \n",
    "# Create linear regression object\n",
    "regr = linear_model.LinearRegression()\n",
    " \n",
    "# Train the model using the training sets\n",
    "regr.fit(diabetes_X_train, diabetes_y_train)\n",
    " \n",
    "# Make predictions using the testing set\n",
    "diabetes_y_pred = regr.predict(diabetes_X_test)\n",
    " \n",
    "# The coefficients\n",
    "print('Coefficients: \\n', regr.coef_)\n",
    "# The coefficients\n",
    "print('Mean squared error: %.2f'\n",
    "      % mean_squared_error(diabetes_y_test, diabetes_y_pred))\n",
    "# The coefficient of determination: 1 is perfect prediction\n",
    "print('Coefficient of determination: %.2f'\n",
    "      % r2_score(diabetes_y_test, diabetes_y_pred))\n",
    " \n",
    "# Plot outputs\n",
    "plt.scatter(diabetes_X_test, diabetes_y_test,  color='black')\n",
    "plt.plot(diabetes_X_test, diabetes_y_pred, color='blue', linewidth=3)\n",
    " \n",
    "plt.xticks(())\n",
    "plt.yticks(())\n",
    " \n",
    "plt.show()"
   ]
  },
  {
   "cell_type": "code",
   "execution_count": 6,
   "id": "personal-setting",
   "metadata": {},
   "outputs": [],
   "source": [
    "# Create linear regression object\n",
    "regr = linear_model.LinearRegression()\n",
    " \n",
    "# Train the model using the training sets\n",
    "regr.fit(diabetes_X_train, diabetes_y_train)\n",
    " \n",
    "# Find w\n",
    "w = np.array([np.append(regr.coef_, regr.predict(diabetes_X_test))])"
   ]
  },
  {
   "cell_type": "markdown",
   "id": "welsh-peoples",
   "metadata": {},
   "source": [
    "Câu 1"
   ]
  },
  {
   "cell_type": "code",
   "execution_count": 7,
   "id": "involved-committee",
   "metadata": {},
   "outputs": [
    {
     "name": "stdout",
     "output_type": "stream",
     "text": [
      "w =  [  -9.38654069 -239.50541995  519.71747928  324.62241148 -788.75647584\n",
      "  474.10341796   98.46801188  175.8004285   749.38200399   67.88567794\n",
      "  152.10620412]\n"
     ]
    }
   ],
   "source": [
    "#Train test split\n",
    "diabetes_X, diabetes_y = datasets.load_diabetes(return_X_y=True)\n",
    "diabetes_X_train,diabetes_y_train=diabetes_X[:-2],diabetes_y[:-2]\n",
    "diabetes_X_test,diabetes_y_test=diabetes_X[-2:],diabetes_y[-2:]\n",
    "# Thêm 1 vào X\n",
    "one = np.ones((diabetes_X_train.shape[0], 1),dtype = np.int8)\n",
    "Xbar = np.concatenate((diabetes_X_train, one), axis = 1)\n",
    " \n",
    "# Tính W\n",
    "A = np.dot(Xbar.T, Xbar)\n",
    "b = np.dot(Xbar.T, diabetes_y_train)\n",
    "w = np.dot(np.linalg.pinv(A), b)\n",
    "print('w = ', w)\n"
   ]
  },
  {
   "cell_type": "markdown",
   "id": "complicated-compact",
   "metadata": {},
   "source": [
    "Câu 2"
   ]
  },
  {
   "cell_type": "code",
   "execution_count": 57,
   "id": "offshore-phoenix",
   "metadata": {},
   "outputs": [],
   "source": [
    "def targets_X_test(w, diabetes_X_test):\n",
    "    targets_X_test = []\n",
    "    for i in diabetes_X_test:\n",
    "         targets_X_test.append(np.append(x,1).dot(w))\n",
    "    return targets_X_test"
   ]
  },
  {
   "cell_type": "code",
   "execution_count": 58,
   "id": "interesting-heavy",
   "metadata": {},
   "outputs": [
    {
     "data": {
      "text/plain": [
       "[array([211.74929866]), array([211.74929866])]"
      ]
     },
     "execution_count": 58,
     "metadata": {},
     "output_type": "execute_result"
    }
   ],
   "source": [
    "targets_X_test(w, diabetes_X_test)"
   ]
  },
  {
   "cell_type": "code",
   "execution_count": 10,
   "id": "bigger-battery",
   "metadata": {},
   "outputs": [
    {
     "data": {
      "text/plain": [
       "array([220.,  57.])"
      ]
     },
     "execution_count": 10,
     "metadata": {},
     "output_type": "execute_result"
    }
   ],
   "source": [
    "diabetes_y_test"
   ]
  },
  {
   "cell_type": "code",
   "execution_count": 11,
   "id": "designed-strengthening",
   "metadata": {},
   "outputs": [],
   "source": [
    "def Cost_function(y_pred, y):\n",
    "    companies = len(y_pred)\n",
    "    total_error = 0.0\n",
    "    for i in range(companies):\n",
    "        total_error += ((y_pred[i] - y[i]))**2\n",
    "    return total_error / (2 * companies)"
   ]
  },
  {
   "cell_type": "code",
   "execution_count": 13,
   "id": "lightweight-glasgow",
   "metadata": {},
   "outputs": [
    {
     "data": {
      "text/plain": [
       "20.641979211472606"
      ]
     },
     "execution_count": 13,
     "metadata": {},
     "output_type": "execute_result"
    }
   ],
   "source": [
    "Cost_function(targets_X_test, diabetes_y_test)"
   ]
  },
  {
   "cell_type": "markdown",
   "id": "controlling-acceptance",
   "metadata": {},
   "source": [
    "Câu 3"
   ]
  },
  {
   "cell_type": "code",
   "execution_count": 14,
   "id": "laden-donor",
   "metadata": {},
   "outputs": [],
   "source": [
    "from sklearn.linear_model import LinearRegression"
   ]
  },
  {
   "cell_type": "code",
   "execution_count": 30,
   "id": "breathing-dominant",
   "metadata": {},
   "outputs": [],
   "source": [
    "# Create linear regression object\n",
    "regr = LinearRegression()\n",
    " \n",
    "# Train the model using the training sets\n",
    "regr.fit(diabetes_X_train, diabetes_y_train)\n",
    "\n",
    "#Find w\n",
    "w = np.array([np.append(regr.coef_, regr.intercept_)]).T"
   ]
  },
  {
   "cell_type": "code",
   "execution_count": 31,
   "id": "bizarre-cradle",
   "metadata": {},
   "outputs": [
    {
     "data": {
      "text/plain": [
       "array([[  -9.38654069],\n",
       "       [-239.50541995],\n",
       "       [ 519.71747928],\n",
       "       [ 324.62241148],\n",
       "       [-788.75647584],\n",
       "       [ 474.10341796],\n",
       "       [  98.46801188],\n",
       "       [ 175.8004285 ],\n",
       "       [ 749.38200399],\n",
       "       [  67.88567794],\n",
       "       [ 152.10620412]])"
      ]
     },
     "execution_count": 31,
     "metadata": {},
     "output_type": "execute_result"
    }
   ],
   "source": [
    "w"
   ]
  },
  {
   "cell_type": "code",
   "execution_count": 33,
   "id": "handled-alarm",
   "metadata": {},
   "outputs": [],
   "source": [
    "targets_X_test = []\n",
    "for x in diabetes_X_test:\n",
    "    targets_X_test.append(np.append(x,1).dot(w))\n",
    "targets_X_test = np.array(targets_X_test)"
   ]
  },
  {
   "cell_type": "code",
   "execution_count": 34,
   "id": "absolute-blank",
   "metadata": {},
   "outputs": [
    {
     "data": {
      "text/plain": [
       "array([[211.74929866],\n",
       "       [ 53.19292183]])"
      ]
     },
     "execution_count": 34,
     "metadata": {},
     "output_type": "execute_result"
    }
   ],
   "source": [
    "targets_X_test"
   ]
  },
  {
   "cell_type": "code",
   "execution_count": null,
   "id": "valid-envelope",
   "metadata": {},
   "outputs": [],
   "source": []
  }
 ],
 "metadata": {
  "kernelspec": {
   "display_name": "Python 3",
   "language": "python",
   "name": "python3"
  },
  "language_info": {
   "codemirror_mode": {
    "name": "ipython",
    "version": 3
   },
   "file_extension": ".py",
   "mimetype": "text/x-python",
   "name": "python",
   "nbconvert_exporter": "python",
   "pygments_lexer": "ipython3",
   "version": "3.8.5"
  }
 },
 "nbformat": 4,
 "nbformat_minor": 5
}
